{
 "cells": [
  {
   "cell_type": "code",
   "execution_count": null,
   "metadata": {},
   "outputs": [],
   "source": []
  },
  {
   "cell_type": "code",
   "execution_count": 1,
   "metadata": {},
   "outputs": [],
   "source": [
    "import math\n",
    "import json\n",
    "import numpy\n",
    "import matplotlib.pyplot as plt\n",
    "import requests\n",
    "from datetime import date, timedelta"
   ]
  },
  {
   "cell_type": "markdown",
   "metadata": {},
   "source": [
    "Next we read in the data from the covidtracking.com site into a list of dictionaries using the \"requests\" package to access the website and the \"json\" package to convert the result into a list of dictionaries."
   ]
  },
  {
   "cell_type": "code",
   "execution_count": 2,
   "metadata": {},
   "outputs": [
    {
     "name": "stdout",
     "output_type": "stream",
     "text": [
      "the length of the list us_data is 27\n",
      "{'date': 20200330, 'states': 56, 'positive': 160530, 'negative': 784324, 'posNeg': 944854, 'pending': 65382, 'hospitalized': 22303, 'death': 2939, 'total': 1010236, 'hash': '5d6b80da84d18b345f21f914f55a72520c680310', 'dateChecked': '2020-03-30T20:00:00Z', 'totalTestResults': 944854, 'deathIncrease': 511, 'hospitalizedIncrease': 2573, 'negativeIncrease': 92034, 'positiveIncrease': 21469, 'totalTestResultsIncrease': 113503}\n",
      "\n",
      "\n",
      " and here is the first element of us_data\n",
      "\n",
      "\n"
     ]
    },
    {
     "data": {
      "text/plain": [
       "{'date': 20200304,\n",
       " 'states': 14,\n",
       " 'positive': 118,\n",
       " 'negative': 748,\n",
       " 'posNeg': 866,\n",
       " 'pending': 103,\n",
       " 'hospitalized': None,\n",
       " 'death': None,\n",
       " 'total': 969,\n",
       " 'hash': 'cb37569f0d0d2dd2f673f39dfc11474f6c9a54ef',\n",
       " 'dateChecked': '2020-03-04T21:00:00Z',\n",
       " 'totalTestResults': 866,\n",
       " 'deathIncrease': None,\n",
       " 'hospitalizedIncrease': None,\n",
       " 'negativeIncrease': None,\n",
       " 'positiveIncrease': None,\n",
       " 'totalTestResultsIncrease': None}"
      ]
     },
     "execution_count": 2,
     "metadata": {},
     "output_type": "execute_result"
    }
   ],
   "source": [
    "url = \"https://covidtracking.com/api/us/daily\"\n",
    "text = requests.get(url).text\n",
    "us_data = json.loads(text)\n",
    "print('the length of the list us_data is',len(us_data))\n",
    "print(us_data[0])\n",
    "print(\"\\n\\n and here is the first element of us_data\\n\\n\")\n",
    "us_data[-1]\n"
   ]
  },
  {
   "cell_type": "markdown",
   "metadata": {},
   "source": [
    "Here we plot the ratio of positive tests to total tests as a function of days after the start of data collection on 3/4/2020"
   ]
  },
  {
   "cell_type": "code",
   "execution_count": 3,
   "metadata": {},
   "outputs": [
    {
     "name": "stdout",
     "output_type": "stream",
     "text": [
      "[12, 13, 10, 12, 13, 14, 15, 14, 13, 12, 12, 11, 10, 10, 10, 11, 12, 13, 14, 14, 14, 14, 14, 14, 15, 16, 16]\n"
     ]
    },
    {
     "data": {
      "image/png": "[encoded data removed]",
      "text/plain": [
       "<Figure size 432x288 with 1 Axes>"
      ]
     },
     "metadata": {
      "needs_background": "light"
     },
     "output_type": "display_data"
    }
   ],
   "source": [
    "z = [(x['date'],round(x['positive']/x['total']*100)) for x in us_data]\n",
    "z.sort(key=lambda x: x[0])\n",
    "xs = [x[1] for x in z]\n",
    "print(xs)\n",
    "fig, ax = plt.subplots()\n",
    "line1, = ax.plot(xs)\n",
    "plt.grid(True)\n",
    "plt.xlabel('days since 3/4/2020')\n",
    "plt.show()"
   ]
  },
  {
   "cell_type": "markdown",
   "metadata": {},
   "source": [
    "Now we clean up the data a bit (replace None values with 0)\n",
    "and we get the values for the number of positive cases and the deaths\n",
    "These are lists where the element at position k is the number of cases or deaths\n",
    "on day k after 3/3/2020"
   ]
  },
  {
   "cell_type": "code",
   "execution_count": 4,
   "metadata": {},
   "outputs": [
    {
     "name": "stdout",
     "output_type": "stream",
     "text": [
      "Here is the number of US deaths each day since 3/4/2020 [0, 0, 0, 0, 0, 0, 0, 27, 36, 39, 49, 60, 71, 90, 112, 160, 219, 272, 398, 471, 675, 900, 1163, 1530, 1965, 2428, 2939]\n",
      "Here is the number of US c19 cases each day since 3/4/2020 [118, 176, 223, 341, 417, 584, 778, 1053, 1315, 1922, 2450, 3173, 4019, 5591, 7730, 11719, 17033, 23197, 31879, 42152, 51954, 63928, 80735, 99413, 118234, 139061, 160530]\n"
     ]
    }
   ],
   "source": [
    "us_data.sort(key=lambda x: x['date'])\n",
    "data = us_data\n",
    "\n",
    "def clean(n):\n",
    "    if n==None:\n",
    "        return 0\n",
    "    else:\n",
    "        return n\n",
    "\n",
    "positives = [clean(x['positive']) for x in data]\n",
    "deaths = [clean(x['death']) for x in data]\n",
    "dates = [clean(x['date']) for x in data]\n",
    "print(\"Here is the number of US deaths each day since 3/4/2020\",deaths)\n",
    "print(\"Here is the number of US c19 cases each day since 3/4/2020\",positives)"
   ]
  },
  {
   "cell_type": "markdown",
   "metadata": {},
   "source": [
    "We can now plot the data using matplotlib.pyplot which has been imported as plt"
   ]
  },
  {
   "cell_type": "code",
   "execution_count": 5,
   "metadata": {},
   "outputs": [
    {
     "data": {
      "image/png": "[encoded data removed]",
      "text/plain": [
       "<Figure size 432x288 with 1 Axes>"
      ]
     },
     "metadata": {
      "needs_background": "light"
     },
     "output_type": "display_data"
    }
   ],
   "source": [
    "fig, ax = plt.subplots()\n",
    "line1, = ax.plot(deaths)\n",
    "line2, = ax.plot(positives)\n",
    "plt.yscale('log')\n",
    "plt.grid(True)\n",
    "plt.xlabel('days since 3/4/2020')\n",
    "\n",
    "\n",
    "plt.show()\n"
   ]
  },
  {
   "cell_type": "markdown",
   "metadata": {},
   "source": [
    "Next we make a rough calculation of the average rate of increase per day over the past week to get the daily increase ratio for deaths and cases and we use it to see how accurately in predicts todays deaths/cases starting from a week ago."
   ]
  },
  {
   "cell_type": "code",
   "execution_count": 6,
   "metadata": {},
   "outputs": [
    {
     "name": "stdout",
     "output_type": "stream",
     "text": [
      "1.298963518762232\n",
      "[471, 675, 900, 1163, 1530, 1965, 2428, 2939]\n",
      "2939.0\n"
     ]
    }
   ],
   "source": [
    "# calulate d = death increase per day ratio\n",
    "d_death = math.exp(math.log(deaths[-1]/deaths[-8])/7)\n",
    "print(d_death)\n",
    "print(deaths[-8:])\n",
    "print(deaths[-8]*d_death**7)\n",
    "n_death = len(deaths)"
   ]
  },
  {
   "cell_type": "code",
   "execution_count": 7,
   "metadata": {},
   "outputs": [
    {
     "name": "stdout",
     "output_type": "stream",
     "text": [
      "1.2104938137231345\n",
      "[42152, 51954, 63928, 80735, 99413, 118234, 139061, 160530]\n",
      "160530\n"
     ]
    }
   ],
   "source": [
    "# calulate d = death increase per day ratio\n",
    "d_pos = math.exp(math.log(positives[-1]/positives[-8])/7)\n",
    "print(d_pos)\n",
    "print(positives[-8:])\n",
    "print(round(positives[-8]*d_pos**7))\n",
    "n_pos = len(positives)"
   ]
  },
  {
   "cell_type": "code",
   "execution_count": null,
   "metadata": {},
   "outputs": [],
   "source": []
  },
  {
   "cell_type": "markdown",
   "metadata": {},
   "source": [
    "We can now start to make a prediction, since we have the daily rate of increase for deaths and cases. \n",
    "We also calculate the constant value to represent these as pure exponentials\n",
    "``` python\n",
    "f(k) = c * d**k\n",
    "```\n"
   ]
  },
  {
   "cell_type": "markdown",
   "metadata": {},
   "source": [
    "Let's now calculate the c and d coefficients for the death and infection curves"
   ]
  },
  {
   "cell_type": "code",
   "execution_count": 8,
   "metadata": {},
   "outputs": [
    {
     "name": "stdout",
     "output_type": "stream",
     "text": [
      "c_pos 1118.2251964406405\n",
      "d_pos 1.2104938137231345\n",
      "c_death 3.270986702278256\n",
      "d_death 1.298963518762232\n"
     ]
    }
   ],
   "source": [
    "days=60\n",
    "death_prediction = [round(deaths[-1]*d_death**(k-n_death+1)) for k in range(n_death,n_death+days)]\n",
    "#print(death_prediction)\n",
    "positive_prediction = [round(positives[-1]*d_pos**(k-n_pos+1)) for k in range(n_pos,n_pos+days)]\n",
    "#print(positive_prediction)\n",
    "c_pos = positives[-1]*d_pos**(1-n_pos)\n",
    "print('c_pos',c_pos)\n",
    "print('d_pos',d_pos)\n",
    "c_death = deaths[-1]*d_death**(1-n_death)\n",
    "print('c_death',c_death)\n",
    "print('d_death',d_death)"
   ]
  },
  {
   "cell_type": "markdown",
   "metadata": {},
   "source": [
    "Finally, we plot our predictions and also draw lines at on million, 330 million (the US population), and 7.53 billion (the world population)"
   ]
  },
  {
   "cell_type": "code",
   "execution_count": 9,
   "metadata": {},
   "outputs": [
    {
     "data": {
      "image/png": "[encoded data removed]",
      "text/plain": [
       "<Figure size 720x432 with 1 Axes>"
      ]
     },
     "metadata": {
      "needs_background": "light"
     },
     "output_type": "display_data"
    }
   ],
   "source": [
    "plt.rcParams['figure.figsize'] = [10.0,6.0]\n",
    "fig2, ax = plt.subplots()\n",
    "\n",
    "line1, = ax.plot(deaths)\n",
    "line2, = ax.plot(positives)\n",
    "\n",
    "# here are the predictions\n",
    "line3, = ax.plot(range(n_death,n_death+days),death_prediction)\n",
    "line4, = ax.plot(range(n_pos,n_pos+days), positive_prediction)\n",
    "\n",
    "# here are the horizontal lines\n",
    "line5, = ax.plot(range(0,n_pos+days),[1000000]*(n_pos+days))\n",
    "line6, = ax.plot(range(0,n_pos+days),[330000000]*(n_pos+days))\n",
    "line7, = ax.plot(range(0,n_pos+days),[7.53*10**9]*(n_pos+days))\n",
    "\n",
    "# here we can plot our approximation of the deaths graph as a pure exponential function\n",
    "#line8, = ax.plot(range(0,n_death+days),[c_death*d_death**k for k in range(0,n_pos+days)])\n",
    "#line9, = ax.plot(range(0,n_pos+days),[c_pos*d_pos**k for k in range(0,n_pos+days)])\n",
    "plt.yscale('log')\n",
    "plt.grid(True)\n",
    "plt.xlabel('days since 3/4/2020')\n",
    "plt.legend(['deaths','cases','predicted deaths','predicted cases','1 million','US population','world population'])\n",
    "plt.title(\"Extrapolation of Covid19 cases and deaths based on US data from 3/3/20 to 3/22/20\")\n",
    "\n",
    "# here is where we save the plot to a file and show it on the screen\n",
    "plt.savefig('covid19.png')\n",
    "plt.show()\n"
   ]
  },
  {
   "cell_type": "markdown",
   "metadata": {},
   "source": [
    "# Milestones\n",
    "Finally we use the exponential approxiation to see when we can expect large numbers of people to have died. This is assuming that we don't change policy and it ignores factors like herd immunity and the limited size of our population. It is just a straight extrapoloation from the exponential formula..."
   ]
  },
  {
   "cell_type": "code",
   "execution_count": 10,
   "metadata": {},
   "outputs": [
    {
     "name": "stdout",
     "output_type": "stream",
     "text": [
      "         1K dead in -4 days on 2020-03-26\n",
      "        10K dead in 5 days on 2020-04-04\n",
      "       100K dead in 13 days on 2020-04-12\n",
      "  1 million dead in 22 days on 2020-04-21\n",
      " 10 million dead in 31 days on 2020-04-30\n"
     ]
    }
   ],
   "source": [
    "us_population = 330000000\n",
    "def days_death(n):\n",
    "   return math.log(n/c_death)/math.log(d_death)\n",
    "def days_after(k):\n",
    "    start = date(2020,3,4)\n",
    "    return start+timedelta(days=k)\n",
    "\n",
    "n_now = len(data)-1\n",
    "n_1e3 = round(days_death(1e3))\n",
    "n_1e4 = round(days_death(1e4))\n",
    "n_1e5 = round(days_death(1e5))\n",
    "n_1e6 = round(days_death(1e6))\n",
    "n_1e7 = round(days_death(1e7))\n",
    "print('         1K dead in',n_1e3-n_now,'days on',days_after(n_1e3))\n",
    "print('        10K dead in',n_1e4-n_now,'days on',days_after(n_1e4))\n",
    "print('       100K dead in',n_1e5-n_now,'days on',days_after(n_1e5))\n",
    "print('  1 million dead in',n_1e6-n_now,'days on',days_after(n_1e6))\n",
    "print(' 10 million dead in',n_1e7-n_now,'days on',days_after(n_1e7))"
   ]
  },
  {
   "cell_type": "code",
   "execution_count": null,
   "metadata": {},
   "outputs": [],
   "source": []
  }
 ],
 "metadata": {
  "kernelspec": {
   "display_name": "Python 3",
   "language": "python",
   "name": "python3"
  },
  "language_info": {
   "codemirror_mode": {
    "name": "ipython",
    "version": 3
   },
   "file_extension": ".py",
   "mimetype": "text/x-python",
   "name": "python",
   "nbconvert_exporter": "python",
   "pygments_lexer": "ipython3",
   "version": "3.8.1"
  }
 },
 "nbformat": 4,
 "nbformat_minor": 4
}
