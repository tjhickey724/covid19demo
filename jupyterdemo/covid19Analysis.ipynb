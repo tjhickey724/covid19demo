{
 "cells": [
  {
   "cell_type": "markdown",
   "metadata": {},
   "source": [
    "# Covid19 Analysis and Prediction for US\n",
    "## by Tim Hickey on Mon 3/23/2020\n",
    "In this jupyter notebook we take the current US covid-19 data from covidtracking.com\n",
    "and plot it with a vertical log scale.  \n",
    "\n",
    "As of 3/23/2020, the growth of the number of cases and deaths\n",
    "were seen to be very nearly exponential with\n",
    "deaths = 3.1 * 1.31^k  where k is the number of days after 3/3/2020\n",
    "\n",
    "At this rate, by day 47 there will a million US deaths and everyone will be infected.\n",
    "That is sometime in mid-April.\n",
    "\n",
    "We will track these curves an predictions and hope that they change radically.\n",
    "\n",
    "First we need to import some libraries"
   ]
  },
  {
   "cell_type": "code",
   "execution_count": null,
   "metadata": {},
   "outputs": [],
   "source": []
  },
  {
   "cell_type": "code",
   "execution_count": 1,
   "metadata": {},
   "outputs": [],
   "source": [
    "import math\n",
    "import json\n",
    "import numpy\n",
    "import matplotlib.pyplot as plt\n",
    "import requests\n",
    "from datetime import date, timedelta"
   ]
  },
  {
   "cell_type": "code",
   "execution_count": 2,
   "metadata": {},
   "outputs": [
    {
     "name": "stdout",
     "output_type": "stream",
     "text": [
      "{'date': 20200323, 'states': 56, 'positive': 42164, 'negative': 237321, 'posNeg': 279485, 'pending': 14571, 'hospitalized': 3325, 'death': 471, 'total': 294056, 'dateChecked': 20200323}\n"
     ]
    }
   ],
   "source": [
    "url = \"https://covidtracking.com/api/us/daily\"\n",
    "text = requests.get(url).text\n",
    "us_data = json.loads(text)\n",
    "for d in us_data:\n",
    "    d['dateChecked'] = d['date']\n",
    "print(us_data[0])\n"
   ]
  },
  {
   "cell_type": "markdown",
   "metadata": {},
   "source": [
    "Next we read in the data from a file\n",
    "We should modify this to read the data in from the online webservice\n",
    "so it will be up to date..."
   ]
  },
  {
   "cell_type": "code",
   "execution_count": 3,
   "metadata": {},
   "outputs": [
    {
     "name": "stdout",
     "output_type": "stream",
     "text": [
      "19\n",
      "{'date': 20200304, 'states': 14, 'positive': 118, 'negative': 748, 'posNeg': 866, 'pending': 103, 'hospitalized': None, 'death': None, 'total': 969}\n",
      "20\n"
     ]
    }
   ],
   "source": [
    "with open('uscovid19.json') as f:\n",
    "  data = json.load(f)\n",
    "print(len(data))\n",
    "print(data[0])\n",
    "us_data.sort(key=lambda x: x['date'])\n",
    "print(len(us_data))\n",
    "us_data[0]\n",
    "data = us_data\n"
   ]
  },
  {
   "cell_type": "markdown",
   "metadata": {},
   "source": [
    "Now we clean up the data a bit (replace None values with 0)\n",
    "and we get the values for the number of positive cases and the deaths\n",
    "These are lists where the element at position k is the number of cases or deaths\n",
    "on day k after 3/3/2020"
   ]
  },
  {
   "cell_type": "code",
   "execution_count": 4,
   "metadata": {},
   "outputs": [
    {
     "data": {
      "text/plain": [
       "[0, 0, 0, 0, 0, 0, 0, 27, 36, 39, 49, 60, 71, 90, 112, 160, 219, 272, 398, 471]"
      ]
     },
     "execution_count": 4,
     "metadata": {},
     "output_type": "execute_result"
    }
   ],
   "source": [
    "def clean(n):\n",
    "    if n==None:\n",
    "        return 0\n",
    "    else:\n",
    "        return n\n",
    "\n",
    "positives = [clean(x['positive']) for x in data]\n",
    "deaths = [clean(x['death']) for x in data]\n",
    "dates = [clean(x['date']) for x in data]\n",
    "deaths"
   ]
  },
  {
   "cell_type": "markdown",
   "metadata": {},
   "source": [
    "We can now plot the data using matplotlib.pyplot which has been imported as plt"
   ]
  },
  {
   "cell_type": "code",
   "execution_count": 5,
   "metadata": {},
   "outputs": [
    {
     "data": {
      "image/png": "[encoded data removed]",
      "text/plain": [
       "<Figure size 432x288 with 1 Axes>"
      ]
     },
     "metadata": {
      "needs_background": "light"
     },
     "output_type": "display_data"
    }
   ],
   "source": [
    "fig, ax = plt.subplots()\n",
    "line1, = ax.plot(deaths)\n",
    "line2, = ax.plot(positives)\n",
    "plt.yscale('log')\n",
    "plt.grid(True)\n",
    "plt.xlabel('days since 3/4/2020')\n",
    "\n",
    "\n",
    "plt.show()\n"
   ]
  },
  {
   "cell_type": "markdown",
   "metadata": {},
   "source": [
    "Next we make a rough calculation of the average rate of increase per day over the past week to get the daily increase ratio for deaths and cases and we use it to see how accurately in predicts todays deaths/cases starting from a week ago."
   ]
  },
  {
   "cell_type": "code",
   "execution_count": 6,
   "metadata": {},
   "outputs": [
    {
     "name": "stdout",
     "output_type": "stream",
     "text": [
      "1.310372140847405\n",
      "[71, 90, 112, 160, 219, 272, 398, 471]\n",
      "470.99999999999983\n"
     ]
    }
   ],
   "source": [
    "# calulate d = death increase per day ratio\n",
    "d_death = math.exp(math.log(deaths[-1]/deaths[-8])/7)\n",
    "print(d_death)\n",
    "print(deaths[-8:])\n",
    "print(deaths[-8]*d_death**7)\n",
    "n_death = len(deaths)"
   ]
  },
  {
   "cell_type": "code",
   "execution_count": 7,
   "metadata": {},
   "outputs": [
    {
     "name": "stdout",
     "output_type": "stream",
     "text": [
      "1.3990459261549997\n",
      "[4019, 5723, 7731, 11723, 17038, 23203, 31888, 42164]\n",
      "42164\n"
     ]
    }
   ],
   "source": [
    "# calulate d = death increase per day ratio\n",
    "d_pos = math.exp(math.log(positives[-1]/positives[-8])/7)\n",
    "print(d_pos)\n",
    "print(positives[-8:])\n",
    "print(round(positives[-8]*d_pos**7))\n",
    "n_pos = len(positives)"
   ]
  },
  {
   "cell_type": "code",
   "execution_count": null,
   "metadata": {},
   "outputs": [],
   "source": []
  },
  {
   "cell_type": "markdown",
   "metadata": {},
   "source": [
    "We can now start to make a prediction, since we have the daily rate of increase for deaths and cases. \n",
    "We also calculate the constant value to represent these as pure exponentials\n",
    "``` python\n",
    "f(k) = c * d**k\n",
    "```\n"
   ]
  },
  {
   "cell_type": "code",
   "execution_count": null,
   "metadata": {},
   "outputs": [],
   "source": [
    "\n"
   ]
  },
  {
   "cell_type": "code",
   "execution_count": 8,
   "metadata": {},
   "outputs": [
    {
     "name": "stdout",
     "output_type": "stream",
     "text": [
      "c_pos 71.47173941116905\n",
      "d_pos 1.3990459261549997\n",
      "c_death 2.7702727769893682\n",
      "d_death 1.310372140847405\n"
     ]
    }
   ],
   "source": [
    "days=60\n",
    "death_prediction = [round(deaths[-1]*d_death**(k-n_death+1)) for k in range(n_death,n_death+days)]\n",
    "#print(death_prediction)\n",
    "positive_prediction = [round(positives[-1]*d_pos**(k-n_pos+1)) for k in range(n_pos,n_pos+days)]\n",
    "#print(positive_prediction)\n",
    "c_pos = positives[-1]*d_pos**(1-n_pos)\n",
    "print('c_pos',c_pos)\n",
    "print('d_pos',d_pos)\n",
    "c_death = deaths[-1]*d_death**(1-n_death)\n",
    "print('c_death',c_death)\n",
    "print('d_death',d_death)"
   ]
  },
  {
   "cell_type": "markdown",
   "metadata": {},
   "source": [
    "Finally, we plot our predictions and also draw lines at on million, 330 million (the US population), and 7.53 billion (the world population)"
   ]
  },
  {
   "cell_type": "code",
   "execution_count": 9,
   "metadata": {},
   "outputs": [
    {
     "data": {
      "image/png": "[encoded data removed]",
      "text/plain": [
       "<Figure size 720x432 with 1 Axes>"
      ]
     },
     "metadata": {
      "needs_background": "light"
     },
     "output_type": "display_data"
    },
    {
     "data": {
      "text/plain": [
       "[10.0, 6.0]"
      ]
     },
     "execution_count": 9,
     "metadata": {},
     "output_type": "execute_result"
    }
   ],
   "source": [
    "plt.rcParams['figure.figsize'] = [10.0,6.0]\n",
    "fig2, ax = plt.subplots()\n",
    "\n",
    "line1, = ax.plot(deaths)\n",
    "line2, = ax.plot(positives)\n",
    "line3, = ax.plot(range(n_death,n_death+days),death_prediction)\n",
    "line4, = ax.plot(range(n_pos,n_pos+days), positive_prediction)\n",
    "line5, = ax.plot(range(0,n_pos+days),[1000000]*(n_pos+days))\n",
    "line6, = ax.plot(range(0,n_pos+days),[330000000]*(n_pos+days))\n",
    "line7, = ax.plot(range(0,n_pos+days),[7.53*10**9]*(n_pos+days))\n",
    "# here we can plot our approximation of the deaths graph as a pure exponential function\n",
    "#line8, = ax.plot(range(0,n_death+days),[c_death*d_death**k for k in range(0,n_pos+days)])\n",
    "#line9, = ax.plot(range(0,n_pos+days),[c_pos*d_pos**k for k in range(0,n_pos+days)])\n",
    "plt.yscale('log')\n",
    "plt.grid(True)\n",
    "plt.xlabel('days since 3/4/2020')\n",
    "plt.legend(['deaths','cases','predicted deaths','predicted cases','1 million','US population','world population'])\n",
    "plt.title(\"Extrapolation of Covid19 cases and deaths based on US data from 3/3/20 to 3/22/20\")\n",
    "\n",
    "plt.savefig('covid19.png')\n",
    "plt.show()\n",
    "plt.rcParams['figure.figsize']"
   ]
  },
  {
   "cell_type": "markdown",
   "metadata": {},
   "source": [
    "# Milestones\n",
    "Finally we use the exponential approxiation to see when we can expect large numbers of people to have died. This is assuming that we don't change policy and it ignores factors like herd immunity and the limited size of our population. It is just a straight extrapoloation from the exponential formula..."
   ]
  },
  {
   "cell_type": "code",
   "execution_count": 11,
   "metadata": {},
   "outputs": [
    {
     "name": "stdout",
     "output_type": "stream",
     "text": [
      "         1K dead in 2 days on 2020-03-26\n",
      "        10K dead in 10 days on 2020-04-03\n",
      "       100K dead in 19 days on 2020-04-12\n",
      "  1 million dead in 27 days on 2020-04-20\n",
      " 10 million dead in 36 days on 2020-04-29\n"
     ]
    }
   ],
   "source": [
    "us_population = 330000000\n",
    "def days_death(n):\n",
    "   return math.log(n/c_death)/math.log(d_death)\n",
    "def days_after(k):\n",
    "    start = date(2020,3,4)\n",
    "    return start+timedelta(days=k)\n",
    "\n",
    "n_1e3 = round(days_death(1e3))\n",
    "n_1e4 = round(days_death(1e4))\n",
    "n_1e5 = round(days_death(1e5))\n",
    "n_1e6 = round(days_death(1e6))\n",
    "n_1e7 = round(days_death(1e7))\n",
    "print('         1K dead in',n_1e3-len(data),'days on',days_after(n_1e3))\n",
    "print('        10K dead in',n_1e4-len(data),'days on',days_after(n_1e4))\n",
    "print('       100K dead in',n_1e5-len(data),'days on',days_after(n_1e5))\n",
    "print('  1 million dead in',n_1e6-len(data),'days on',days_after(n_1e6))\n",
    "print(' 10 million dead in',n_1e7-len(data),'days on',days_after(n_1e7))"
   ]
  },
  {
   "cell_type": "code",
   "execution_count": null,
   "metadata": {},
   "outputs": [],
   "source": []
  }
 ],
 "metadata": {
  "kernelspec": {
   "display_name": "Python 3",
   "language": "python",
   "name": "python3"
  },
  "language_info": {
   "codemirror_mode": {
    "name": "ipython",
    "version": 3
   },
   "file_extension": ".py",
   "mimetype": "text/x-python",
   "name": "python",
   "nbconvert_exporter": "python",
   "pygments_lexer": "ipython3",
   "version": "3.8.1"
  }
 },
 "nbformat": 4,
 "nbformat_minor": 4
}
