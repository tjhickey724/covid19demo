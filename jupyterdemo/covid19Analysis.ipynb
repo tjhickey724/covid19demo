{
 "cells": [
  {
   "cell_type": "code",
   "execution_count": null,
   "metadata": {},
   "outputs": [],
   "source": []
  },
  {
   "cell_type": "code",
   "execution_count": 1,
   "metadata": {},
   "outputs": [],
   "source": [
    "import math\n",
    "import json\n",
    "import numpy\n",
    "import matplotlib.pyplot as plt\n",
    "import requests\n",
    "from datetime import date, timedelta"
   ]
  },
  {
   "cell_type": "markdown",
   "metadata": {},
   "source": [
    "Next we read in the data from the covidtracking.com site into a list of dictionaries using the \"requests\" package to access the website and the \"json\" package to convert the result into a list of dictionaries."
   ]
  },
  {
   "cell_type": "code",
   "execution_count": 2,
   "metadata": {},
   "outputs": [
    {
     "name": "stdout",
     "output_type": "stream",
     "text": [
      "the length of the list us_data is 171\n",
      "{'date': 20200710, 'states': 56, 'positive': 3167984, 'negative': 35751437, 'pending': 2493, 'hospitalizedCurrently': 51544, 'hospitalizedCumulative': 257571, 'inIcuCurrently': 5889, 'inIcuCumulative': 11523, 'onVentilatorCurrently': 2197, 'onVentilatorCumulative': 1118, 'recovered': 983185, 'dateChecked': '2020-07-10T00:00:00Z', 'death': 126444, 'hospitalized': 257571, 'lastModified': '2020-07-10T00:00:00Z', 'total': 38921914, 'totalTestResults': 38919421, 'posNeg': 38919421, 'deathIncrease': 854, 'hospitalizedIncrease': 2318, 'negativeIncrease': 756730, 'positiveIncrease': 66645, 'totalTestResultsIncrease': 823375, 'hash': 'f32acc8a0a75e68d628c9ba1fe481bac263d093e'}\n",
      "\n",
      "\n",
      " and here is the first element of us_data\n",
      "\n",
      "\n"
     ]
    },
    {
     "data": {
      "text/plain": [
       "{'date': 20200122,\n",
       " 'states': 1,\n",
       " 'positive': 2,\n",
       " 'negative': 0,\n",
       " 'pending': None,\n",
       " 'hospitalizedCurrently': None,\n",
       " 'hospitalizedCumulative': None,\n",
       " 'inIcuCurrently': None,\n",
       " 'inIcuCumulative': None,\n",
       " 'onVentilatorCurrently': None,\n",
       " 'onVentilatorCumulative': None,\n",
       " 'recovered': None,\n",
       " 'dateChecked': '2020-01-22T00:00:00Z',\n",
       " 'death': None,\n",
       " 'hospitalized': None,\n",
       " 'lastModified': '2020-01-22T00:00:00Z',\n",
       " 'total': 2,\n",
       " 'totalTestResults': 2,\n",
       " 'posNeg': 2,\n",
       " 'deathIncrease': 0,\n",
       " 'hospitalizedIncrease': 0,\n",
       " 'negativeIncrease': 0,\n",
       " 'positiveIncrease': 0,\n",
       " 'totalTestResultsIncrease': 0,\n",
       " 'hash': 'd538c99729d1fee626212d1878a100c1e1204a5f'}"
      ]
     },
     "execution_count": 2,
     "metadata": {},
     "output_type": "execute_result"
    }
   ],
   "source": [
    "url = \"https://covidtracking.com/api/us/daily\"\n",
    "text = requests.get(url).text\n",
    "us_data = json.loads(text)\n",
    "print('the length of the list us_data is',len(us_data))\n",
    "print(us_data[0])\n",
    "print(\"\\n\\n and here is the first element of us_data\\n\\n\")\n",
    "us_data[-1]\n"
   ]
  },
  {
   "cell_type": "markdown",
   "metadata": {},
   "source": [
    "Here we plot the ratio of positive tests to total tests as a function of days after the start of data collection on 3/4/2020"
   ]
  },
  {
   "cell_type": "code",
   "execution_count": 3,
   "metadata": {},
   "outputs": [
    {
     "name": "stdout",
     "output_type": "stream",
     "text": [
      "[100, 100, 100, 100, 100, 100, 100, 100, 100, 100, 100, 100, 100, 100, 100, 100, 100, 100, 100, 100, 100, 100, 100, 100, 100, 100, 100, 100, 100, 100, 100, 100, 100, 100, 100, 100, 100, 100, 95, 97, 79, 68, 37, 33, 28, 27, 29, 27, 24, 21, 19, 16, 16, 16, 14, 16, 15, 15, 15, 15, 16, 16, 16, 15, 15, 16, 16, 16, 17, 17, 18, 18, 19, 19, 19, 19, 19, 19, 19, 19, 19, 19, 19, 19, 19, 19, 19, 19, 19, 19, 19, 19, 18, 18, 18, 18, 18, 17, 17, 17, 17, 17, 16, 16, 16, 16, 15, 15, 15, 15, 14, 14, 14, 14, 13, 13, 13, 13, 13, 12, 12, 12, 12, 12, 11, 11, 11, 11, 11, 11, 11, 10, 10, 10, 10, 10, 10, 10, 9, 9, 9, 9, 9, 9, 9, 9, 9, 9, 9, 8, 8, 8, 8, 8, 8, 8, 8, 8, 8, 8, 8, 8, 8, 8, 8, 8, 8, 8, 8, 8, 8]\n"
     ]
    },
    {
     "data": {
      "image/png": "[encoded data removed]",
      "text/plain": [
       "<Figure size 432x288 with 1 Axes>"
      ]
     },
     "metadata": {
      "needs_background": "light"
     },
     "output_type": "display_data"
    }
   ],
   "source": [
    "z = [(x['date'],round(x['positive']/x['total']*100)) for x in us_data]\n",
    "z.sort(key=lambda x: x[0])\n",
    "xs = [x[1] for x in z]\n",
    "print(xs)\n",
    "fig, ax = plt.subplots()\n",
    "line1, = ax.plot(xs)\n",
    "plt.grid(True)\n",
    "plt.xlabel('days since 3/4/2020')\n",
    "plt.show()"
   ]
  },
  {
   "cell_type": "markdown",
   "metadata": {},
   "source": [
    "Now we clean up the data a bit (replace None values with 0)\n",
    "and we get the values for the number of positive cases and the deaths\n",
    "These are lists where the element at position k is the number of cases or deaths\n",
    "on day k after 3/3/2020"
   ]
  },
  {
   "cell_type": "code",
   "execution_count": 4,
   "metadata": {},
   "outputs": [
    {
     "name": "stdout",
     "output_type": "stream",
     "text": [
      "Here is the number of US deaths each day since 3/4/2020 [0, 0, 0, 0, 0, 0, 0, 0, 0, 0, 0, 0, 0, 0, 0, 0, 0, 0, 0, 0, 0, 0, 0, 0, 0, 0, 0, 0, 0, 0, 0, 0, 0, 0, 0, 2, 2, 4, 5, 8, 11, 14, 16, 20, 26, 27, 31, 35, 37, 43, 51, 55, 64, 79, 100, 122, 153, 199, 267, 328, 471, 568, 799, 1031, 1342, 1743, 2262, 2778, 3355, 4216, 5204, 6353, 7612, 9052, 10337, 11591, 13547, 15491, 17463, 19518, 21500, 23130, 24702, 26989, 29475, 31616, 33693, 35530, 37263, 39028, 41457, 43522, 45286, 47151, 48865, 50053, 51290, 53332, 56024, 58141, 59894, 61435, 62641, 63653, 66098, 68030, 70770, 72549, 73981, 75005, 75892, 77364, 79060, 80931, 82433, 83417, 84263, 85107, 86432, 87824, 89212, 90547, 91607, 92285, 92840, 93480, 94798, 96024, 97203, 98132, 98781, 99446, 100405, 101396, 102284, 103107, 103834, 104280, 104940, 105838, 106723, 107621, 108393, 109084, 109439, 109819, 110548, 111315, 112019, 112674, 113302, 113594, 113877, 114585, 115309, 117810, 118446, 118955, 119226, 119556, 120152, 120853, 121523, 122147, 122453, 122662, 122904, 123826, 124723, 125590, 126444]\n",
      "Here is the number of US c19 cases each day since 3/4/2020 [2, 2, 2, 2, 2, 2, 2, 3, 3, 3, 4, 6, 7, 8, 8, 11, 12, 13, 13, 16, 17, 18, 18, 21, 28, 35, 50, 59, 69, 82, 93, 106, 122, 148, 179, 208, 235, 275, 299, 388, 470, 570, 757, 910, 1051, 1271, 1538, 1905, 2346, 2873, 3555, 4580, 5495, 6746, 8315, 11928, 15099, 19770, 26025, 32910, 42169, 53611, 64243, 77116, 94772, 113816, 133540, 153195, 175092, 199786, 225559, 253551, 285496, 318748, 344298, 373235, 403972, 434506, 468925, 503276, 533837, 561681, 586814, 612445, 642743, 673666, 705630, 733593, 761061, 786933, 813266, 842178, 873966, 908140, 944041, 971421, 993400, 1018604, 1045835, 1075454, 1108510, 1137695, 1163462, 1185985, 1208434, 1233490, 1260980, 1288585, 1313395, 1334899, 1353135, 1375798, 1396991, 1423696, 1448406, 1473107, 1493278, 1514270, 1535123, 1556442, 1582955, 1607510, 1629100, 1649205, 1668003, 1684632, 1704017, 1726618, 1750140, 1773902, 1795541, 1815956, 1835938, 1856250, 1877089, 1900441, 1923547, 1942370, 1959382, 1976557, 1997360, 2019392, 2042869, 2068210, 2089583, 2108093, 2131528, 2155401, 2182928, 2213974, 2245968, 2273252, 2300269, 2333290, 2371974, 2411046, 2455467, 2499250, 2541157, 2577580, 2621929, 2674936, 2728591, 2786467, 2838558, 2881160, 2928590, 2980356, 3042503, 3101339, 3167984]\n"
     ]
    }
   ],
   "source": [
    "us_data.sort(key=lambda x: x['date'])\n",
    "data = us_data\n",
    "\n",
    "def clean(n):\n",
    "    if n==None:\n",
    "        return 0\n",
    "    else:\n",
    "        return n\n",
    "\n",
    "positives = [clean(x['positive']) for x in data]\n",
    "deaths = [clean(x['death']) for x in data]\n",
    "dates = [clean(x['date']) for x in data]\n",
    "print(\"Here is the number of US deaths each day since 3/4/2020\",deaths)\n",
    "print(\"Here is the number of US c19 cases each day since 3/4/2020\",positives)"
   ]
  },
  {
   "cell_type": "markdown",
   "metadata": {},
   "source": [
    "We can now plot the data using matplotlib.pyplot which has been imported as plt"
   ]
  },
  {
   "cell_type": "code",
   "execution_count": 5,
   "metadata": {},
   "outputs": [
    {
     "data": {
      "image/png": "[encoded data removed]",
      "text/plain": [
       "<Figure size 432x288 with 1 Axes>"
      ]
     },
     "metadata": {
      "needs_background": "light"
     },
     "output_type": "display_data"
    }
   ],
   "source": [
    "fig, ax = plt.subplots()\n",
    "line1, = ax.plot(deaths)\n",
    "line2, = ax.plot(positives)\n",
    "plt.yscale('log')\n",
    "plt.grid(True)\n",
    "plt.xlabel('days since 3/4/2020')\n",
    "\n",
    "\n",
    "plt.show()\n"
   ]
  },
  {
   "cell_type": "markdown",
   "metadata": {},
   "source": [
    "Next we make a rough calculation of the average rate of increase per day over the past week to get the daily increase ratio for deaths and cases and we use it to see how accurately in predicts todays deaths/cases starting from a week ago."
   ]
  },
  {
   "cell_type": "code",
   "execution_count": 6,
   "metadata": {},
   "outputs": [
    {
     "name": "stdout",
     "output_type": "stream",
     "text": [
      "1.0049514014415282\n",
      "[122147, 122453, 122662, 122904, 123826, 124723, 125590, 126444]\n",
      "126444.00000000003\n"
     ]
    }
   ],
   "source": [
    "# calulate d = death increase per day ratio\n",
    "d_death = math.exp(math.log(deaths[-1]/deaths[-8])/7)\n",
    "print(d_death)\n",
    "print(deaths[-8:])\n",
    "print(deaths[-8]*d_death**7)\n",
    "n_death = len(deaths)"
   ]
  },
  {
   "cell_type": "code",
   "execution_count": 7,
   "metadata": {},
   "outputs": [
    {
     "name": "stdout",
     "output_type": "stream",
     "text": [
      "1.0185006171380804\n",
      "[2786467, 2838558, 2881160, 2928590, 2980356, 3042503, 3101339, 3167984]\n",
      "3167984\n"
     ]
    }
   ],
   "source": [
    "# calulate d = death increase per day ratio\n",
    "d_pos = math.exp(math.log(positives[-1]/positives[-8])/7)\n",
    "print(d_pos)\n",
    "print(positives[-8:])\n",
    "print(round(positives[-8]*d_pos**7))\n",
    "n_pos = len(positives)"
   ]
  },
  {
   "cell_type": "code",
   "execution_count": null,
   "metadata": {},
   "outputs": [],
   "source": []
  },
  {
   "cell_type": "markdown",
   "metadata": {},
   "source": [
    "We can now start to make a prediction, since we have the daily rate of increase for deaths and cases. \n",
    "We also calculate the constant value to represent these as pure exponentials\n",
    "``` python\n",
    "f(k) = c * d**k\n",
    "```\n"
   ]
  },
  {
   "cell_type": "markdown",
   "metadata": {},
   "source": [
    "Let's now calculate the c and d coefficients for the death and infection curves"
   ]
  },
  {
   "cell_type": "code",
   "execution_count": 8,
   "metadata": {},
   "outputs": [
    {
     "name": "stdout",
     "output_type": "stream",
     "text": [
      "c_pos 140398.53516167795\n",
      "d_pos 1.0185006171380804\n",
      "c_death 54605.70235201202\n",
      "d_death 1.0049514014415282\n"
     ]
    }
   ],
   "source": [
    "days=60\n",
    "death_prediction = [round(deaths[-1]*d_death**(k-n_death+1)) for k in range(n_death,n_death+days)]\n",
    "#print(death_prediction)\n",
    "positive_prediction = [round(positives[-1]*d_pos**(k-n_pos+1)) for k in range(n_pos,n_pos+days)]\n",
    "#print(positive_prediction)\n",
    "c_pos = positives[-1]*d_pos**(1-n_pos)\n",
    "print('c_pos',c_pos)\n",
    "print('d_pos',d_pos)\n",
    "c_death = deaths[-1]*d_death**(1-n_death)\n",
    "print('c_death',c_death)\n",
    "print('d_death',d_death)"
   ]
  },
  {
   "cell_type": "markdown",
   "metadata": {},
   "source": [
    "Finally, we plot our predictions and also draw lines at on million, 330 million (the US population), and 7.53 billion (the world population)"
   ]
  },
  {
   "cell_type": "code",
   "execution_count": 9,
   "metadata": {},
   "outputs": [
    {
     "data": {
      "image/png": "[encoded data removed]",
      "text/plain": [
       "<Figure size 720x432 with 1 Axes>"
      ]
     },
     "metadata": {
      "needs_background": "light"
     },
     "output_type": "display_data"
    }
   ],
   "source": [
    "plt.rcParams['figure.figsize'] = [10.0,6.0]\n",
    "fig2, ax = plt.subplots()\n",
    "\n",
    "line1, = ax.plot(deaths)\n",
    "line2, = ax.plot(positives)\n",
    "\n",
    "# here are the predictions\n",
    "line3, = ax.plot(range(n_death,n_death+days),death_prediction)\n",
    "line4, = ax.plot(range(n_pos,n_pos+days), positive_prediction)\n",
    "\n",
    "# here are the horizontal lines\n",
    "line5, = ax.plot(range(0,n_pos+days),[1000000]*(n_pos+days))\n",
    "line6, = ax.plot(range(0,n_pos+days),[330000000]*(n_pos+days))\n",
    "line7, = ax.plot(range(0,n_pos+days),[7.53*10**9]*(n_pos+days))\n",
    "\n",
    "# here we can plot our approximation of the deaths graph as a pure exponential function\n",
    "#line8, = ax.plot(range(0,n_death+days),[c_death*d_death**k for k in range(0,n_pos+days)])\n",
    "#line9, = ax.plot(range(0,n_pos+days),[c_pos*d_pos**k for k in range(0,n_pos+days)])\n",
    "plt.yscale('log')\n",
    "plt.grid(True)\n",
    "plt.xlabel('days since 3/4/2020')\n",
    "plt.legend(['deaths','cases','predicted deaths','predicted cases','1 million','US population','world population'])\n",
    "plt.title(\"Extrapolation of Covid19 cases and deaths based on US data from 3/3/20 to 3/22/20\")\n",
    "\n",
    "# here is where we save the plot to a file and show it on the screen\n",
    "plt.savefig('covid19.png')\n",
    "plt.show()\n"
   ]
  },
  {
   "cell_type": "markdown",
   "metadata": {},
   "source": [
    "# Milestones\n",
    "Finally we use the exponential approxiation to see when we can expect large numbers of people to have died. This is assuming that we don't change policy and it ignores factors like herd immunity and the limited size of our population. It is just a straight extrapoloation from the exponential formula..."
   ]
  },
  {
   "cell_type": "code",
   "execution_count": 10,
   "metadata": {},
   "outputs": [
    {
     "name": "stdout",
     "output_type": "stream",
     "text": [
      "         1K dead in -980 days on 2017-12-15\n",
      "        10K dead in -514 days on 2019-03-26\n",
      "       100K dead in -48 days on 2020-07-04\n",
      "  1 million dead in 419 days on 2021-10-14\n",
      " 10 million dead in 885 days on 2023-01-23\n"
     ]
    }
   ],
   "source": [
    "us_population = 330000000\n",
    "def days_death(n):\n",
    "   return math.log(n/c_death)/math.log(d_death)\n",
    "def days_after(k):\n",
    "    start = date(2020,3,4)\n",
    "    return start+timedelta(days=k)\n",
    "\n",
    "n_now = len(data)-1\n",
    "n_1e3 = round(days_death(1e3))\n",
    "n_1e4 = round(days_death(1e4))\n",
    "n_1e5 = round(days_death(1e5))\n",
    "n_1e6 = round(days_death(1e6))\n",
    "n_1e7 = round(days_death(1e7))\n",
    "print('         1K dead in',n_1e3-n_now,'days on',days_after(n_1e3))\n",
    "print('        10K dead in',n_1e4-n_now,'days on',days_after(n_1e4))\n",
    "print('       100K dead in',n_1e5-n_now,'days on',days_after(n_1e5))\n",
    "print('  1 million dead in',n_1e6-n_now,'days on',days_after(n_1e6))\n",
    "print(' 10 million dead in',n_1e7-n_now,'days on',days_after(n_1e7))"
   ]
  },
  {
   "cell_type": "code",
   "execution_count": null,
   "metadata": {},
   "outputs": [],
   "source": []
  }
 ],
 "metadata": {
  "kernelspec": {
   "display_name": "Python 3",
   "language": "python",
   "name": "python3"
  },
  "language_info": {
   "codemirror_mode": {
    "name": "ipython",
    "version": 3
   },
   "file_extension": ".py",
   "mimetype": "text/x-python",
   "name": "python",
   "nbconvert_exporter": "python",
   "pygments_lexer": "ipython3",
   "version": "3.7.3"
  }
 },
 "nbformat": 4,
 "nbformat_minor": 4
}
