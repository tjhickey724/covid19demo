{
 "cells": [
  {
   "cell_type": "markdown",
   "metadata": {},
   "source": [
    "# Covid19 Analysis Demo\n",
    "This jupyter notebook allows one to compare groups of states using the data from covidtracking.com\n",
    "in a per capita basis or with raw numbers..."
   ]
  },
  {
   "cell_type": "code",
   "execution_count": 1,
   "metadata": {},
   "outputs": [],
   "source": [
    "from covid19 import *\n",
    "import matplotlib.pyplot as plt\n",
    "import numpy as np\n",
    "import json"
   ]
  },
  {
   "cell_type": "code",
   "execution_count": 2,
   "metadata": {},
   "outputs": [],
   "source": [
    "cdata = get_covid_data()"
   ]
  },
  {
   "cell_type": "code",
   "execution_count": 16,
   "metadata": {},
   "outputs": [
    {
     "data": {
      "text/plain": [
       "50"
      ]
     },
     "execution_count": 16,
     "metadata": {},
     "output_type": "execute_result"
    }
   ],
   "source": [
    "stateData = json.load(open(\"states.json\",\"r\"))\n",
    "states = {\n",
    "    \"AL\": \"Alabama\",\n",
    "    \"AK\": \"Alaska\",\n",
    "    #\"AS\": \"American Samoa\",\n",
    "    \"AZ\": \"Arizona\",\n",
    "    \"AR\": \"Arkansas\",\n",
    "    \"CA\": \"California\",\n",
    "    \"CO\": \"Colorado\",\n",
    "    \"CT\": \"Connecticut\",\n",
    "    \"DE\": \"Delaware\",\n",
    "    #\"DC\": \"District Of Columbia\",\n",
    "    #\"FM\": \"Federated States Of Micronesia\",\n",
    "    \"FL\": \"Florida\",\n",
    "    \"GA\": \"Georgia\",\n",
    "    #\"GU\": \"Guam\",\n",
    "    \"HI\": \"Hawaii\",\n",
    "    \"ID\": \"Idaho\",\n",
    "    \"IL\": \"Illinois\",\n",
    "    \"IN\": \"Indiana\",\n",
    "    \"IA\": \"Iowa\",\n",
    "    \"KS\": \"Kansas\",\n",
    "    \"KY\": \"Kentucky\",\n",
    "    \"LA\": \"Louisiana\",\n",
    "    \"ME\": \"Maine\",\n",
    "    #\"MH\": \"Marshall Islands\",\n",
    "    \"MD\": \"Maryland\",\n",
    "    \"MA\": \"Massachusetts\",\n",
    "    \"MI\": \"Michigan\",\n",
    "    \"MN\": \"Minnesota\",\n",
    "    \"MS\": \"Mississippi\",\n",
    "    \"MO\": \"Missouri\",\n",
    "    \"MT\": \"Montana\",\n",
    "    \"NE\": \"Nebraska\",\n",
    "    \"NV\": \"Nevada\",\n",
    "    \"NH\": \"New Hampshire\",\n",
    "    \"NJ\": \"New Jersey\",\n",
    "    \"NM\": \"New Mexico\",\n",
    "    \"NY\": \"New York\",\n",
    "    \"NC\": \"North Carolina\",\n",
    "    \"ND\": \"North Dakota\",\n",
    "    #\"MP\": \"Northern Mariana Islands\",\n",
    "    \"OH\": \"Ohio\",\n",
    "    \"OK\": \"Oklahoma\",\n",
    "    \"OR\": \"Oregon\",\n",
    "    #\"PW\": \"Palau\",\n",
    "    \"PA\": \"Pennsylvania\",\n",
    "    #\"PR\": \"Puerto Rico\",\n",
    "    \"RI\": \"Rhode Island\",\n",
    "    \"SC\": \"South Carolina\",\n",
    "    \"SD\": \"South Dakota\",\n",
    "    \"TN\": \"Tennessee\",\n",
    "    \"TX\": \"Texas\",\n",
    "    \"UT\": \"Utah\",\n",
    "    \"VT\": \"Vermont\",\n",
    "    #\"VI\": \"Virgin Islands\",\n",
    "    \"VA\": \"Virginia\",\n",
    "    \"WA\": \"Washington\",\n",
    "    \"WV\": \"West Virginia\",\n",
    "    \"WI\": \"Wisconsin\",\n",
    "    \"WY\": \"Wyoming\"\n",
    "}\n",
    "len(states.keys())"
   ]
  },
  {
   "cell_type": "code",
   "execution_count": 4,
   "metadata": {},
   "outputs": [
    {
     "data": {
      "text/plain": [
       "19440469"
      ]
     },
     "execution_count": 4,
     "metadata": {},
     "output_type": "execute_result"
    }
   ],
   "source": [
    "len(cdata[0])\n",
    "states['WA']\n",
    "stateData['data'][0]\n",
    "\n",
    "def statePop(state):\n",
    "    x = [d['Pop'] for d in stateData['data'] if d['State']==states[state]]\n",
    "    return x[0]\n",
    "statePop('NY')\n",
    "\n"
   ]
  },
  {
   "cell_type": "code",
   "execution_count": 5,
   "metadata": {},
   "outputs": [
    {
     "data": {
      "text/plain": [
       "{'date': 20200710,\n",
       " 'state': 'FL',\n",
       " 'positive': 244151,\n",
       " 'negative': 2177476,\n",
       " 'pending': 1911,\n",
       " 'hospitalizedCurrently': 6974,\n",
       " 'hospitalizedCumulative': 17916,\n",
       " 'inIcuCurrently': None,\n",
       " 'inIcuCumulative': None,\n",
       " 'onVentilatorCurrently': None,\n",
       " 'onVentilatorCumulative': None,\n",
       " 'recovered': None,\n",
       " 'dataQualityGrade': 'A',\n",
       " 'lastUpdateEt': '7/9/2020 23:59',\n",
       " 'dateModified': '2020-07-09T23:59:00Z',\n",
       " 'checkTimeEt': '07/09 19:59',\n",
       " 'death': 4203,\n",
       " 'hospitalized': 17916,\n",
       " 'dateChecked': '2020-07-09T23:59:00Z',\n",
       " 'totalTestsViral': 2945253,\n",
       " 'positiveTestsViral': 305374,\n",
       " 'negativeTestsViral': 2633526,\n",
       " 'positiveCasesViral': 244151,\n",
       " 'deathConfirmed': 4203,\n",
       " 'deathProbable': None,\n",
       " 'fips': '12',\n",
       " 'positiveIncrease': 11433,\n",
       " 'negativeIncrease': 52796,\n",
       " 'total': 2423538,\n",
       " 'totalTestResults': 2421627,\n",
       " 'totalTestResultsIncrease': 64229,\n",
       " 'posNeg': 2421627,\n",
       " 'deathIncrease': 92,\n",
       " 'hospitalizedIncrease': 437,\n",
       " 'hash': '3968c03124ccdd661df0cc1695af0e15560f692c',\n",
       " 'commercialScore': 0,\n",
       " 'negativeRegularScore': 0,\n",
       " 'negativeScore': 0,\n",
       " 'positiveScore': 0,\n",
       " 'score': 0,\n",
       " 'grade': ''}"
      ]
     },
     "execution_count": 5,
     "metadata": {},
     "output_type": "execute_result"
    }
   ],
   "source": [
    "cdata[0][10]"
   ]
  },
  {
   "cell_type": "code",
   "execution_count": 85,
   "metadata": {},
   "outputs": [],
   "source": [
    "dates = sorted(list({ x['date'] for x in cdata[0]}))\n",
    "dayOfPandemic={}\n",
    "count=22\n",
    "for d in dates:\n",
    "    dayOfPandemic[d]=count\n",
    "    count = count + 1\n",
    "#dayOfPandemic"
   ]
  },
  {
   "cell_type": "code",
   "execution_count": 7,
   "metadata": {},
   "outputs": [],
   "source": [
    "def getField(x,field):\n",
    "    if field in x:\n",
    "        z = x[field]\n",
    "        if (z==None):\n",
    "            return 0\n",
    "        else:\n",
    "            return z\n",
    "    else:\n",
    "        return 0\n",
    "def getStateData(state,field):\n",
    "    sd = [(x['date'],getField(x,field)) for x in cdata[0] if x['state'] == state]\n",
    "    return sorted(sd)\n",
    "\n",
    "           "
   ]
  },
  {
   "cell_type": "code",
   "execution_count": 61,
   "metadata": {},
   "outputs": [
    {
     "data": {
      "image/png": "[encoded data removed]",
      "text/plain": [
       "<Figure size 432x288 with 1 Axes>"
      ]
     },
     "metadata": {
      "needs_background": "light"
     },
     "output_type": "display_data"
    }
   ],
   "source": [
    "z = getStateData('MA','hospitalizedCurrently')\n",
    "#plt.plot([x[0] for x in z],[x[1] for x in z])\n",
    "def plotItems(items,field):\n",
    "    plt.plot([x[0] for x in items],[x[1] for x in items],label=field)\n",
    "plotItems(z,'label')"
   ]
  },
  {
   "cell_type": "code",
   "execution_count": 174,
   "metadata": {},
   "outputs": [
    {
     "data": {
      "text/plain": [
       "(192,\n",
       " [(10002, 'TX'),\n",
       "  (6974, 'FL'),\n",
       "  (3432, 'AZ'),\n",
       "  (2443, 'GA'),\n",
       "  (1438, 'SC'),\n",
       "  (1184, 'TN'),\n",
       "  (1183, 'AL'),\n",
       "  (1117, 'LA'),\n",
       "  (1046, 'NC'),\n",
       "  (981, 'MS'),\n",
       "  (928, 'OH'),\n",
       "  (886, 'MO'),\n",
       "  (667, 'IN'),\n",
       "  (653, 'PA'),\n",
       "  (505, 'MI'),\n",
       "  (487, 'OK'),\n",
       "  (409, 'KY'),\n",
       "  (402, 'AR'),\n",
       "  (274, 'WI'),\n",
       "  (229, 'UT'),\n",
       "  (169, 'IA'),\n",
       "  (100, 'NE'),\n",
       "  (91, 'ID'),\n",
       "  (65, 'SD'),\n",
       "  (56, 'WV'),\n",
       "  (33, 'ND'),\n",
       "  (30, 'AK'),\n",
       "  (21, 'MT'),\n",
       "  (12, 'WY'),\n",
       "  (0, 'KS')])"
      ]
     },
     "execution_count": 174,
     "metadata": {},
     "output_type": "execute_result"
    }
   ],
   "source": [
    "def collectData(states,field,perCapita):\n",
    "    pop=0\n",
    "    for st in states:\n",
    "        pop += statePop(st)\n",
    "    data={}\n",
    "    for d in cdata[0]:\n",
    "        s=d['state']\n",
    "        if s in states:\n",
    "            n = getField(d,field)\n",
    "            if d['date'] in data:\n",
    "                data[d['date']] += n\n",
    "            else:\n",
    "                data[d['date']] = n\n",
    "    z = sorted(data.items())\n",
    "    if perCapita:\n",
    "        z = [(dayOfPandemic[d[0]],d[1]*10000/pop) for d in z]\n",
    "    else:\n",
    "        z = [(dayOfPandemic[d[0]],d[1]) for d in z]\n",
    "        \n",
    "    return z\n",
    "\n",
    "def collectData2(states,field,perCapita):\n",
    "    pop=0\n",
    "    for st in states:\n",
    "        pop += statePop(st)\n",
    "    data={}\n",
    "    for d in cdata[0]:\n",
    "        s=d['state']\n",
    "        if s in states:\n",
    "            n = getField(d,field)\n",
    "            if d['date'] in data:\n",
    "                data[d['date']] += [(n,s)]\n",
    "            else:\n",
    "                data[d['date']] = [(n,s)]\n",
    "    for d in data: \n",
    "        data[d] = sorted(data[d],reverse=True)\n",
    "        #print(data[d])\n",
    "    z = sorted(data.items())\n",
    "    if perCapita:\n",
    "        z = [(dayOfPandemic[d[0]],d[1]*10000/pop) for d in z]\n",
    "    else:\n",
    "        z = [(dayOfPandemic[d[0]],d[1]) for d in z]\n",
    "        \n",
    "    return z\n",
    "\n",
    "collectData2(repStates,'hospitalizedCurrently',False)[-1]"
   ]
  },
  {
   "cell_type": "code",
   "execution_count": 113,
   "metadata": {},
   "outputs": [
    {
     "data": {
      "text/plain": [
       "[1, 2, 4]"
      ]
     },
     "execution_count": 113,
     "metadata": {},
     "output_type": "execute_result"
    }
   ],
   "source": [
    "zz = collectData(['MA','NY','CT'],'positive',True)\n",
    "zz[0:5]\n",
    "x=[1,2]\n",
    "x+=[4]\n",
    "x"
   ]
  },
  {
   "cell_type": "code",
   "execution_count": null,
   "metadata": {},
   "outputs": [],
   "source": []
  },
  {
   "cell_type": "code",
   "execution_count": null,
   "metadata": {},
   "outputs": [],
   "source": []
  },
  {
   "cell_type": "code",
   "execution_count": 43,
   "metadata": {},
   "outputs": [
    {
     "data": {
      "text/plain": [
       "1"
      ]
     },
     "execution_count": 43,
     "metadata": {},
     "output_type": "execute_result"
    }
   ],
   "source": [
    "\n",
    "dayOfPandemic[20200122]\n"
   ]
  },
  {
   "cell_type": "code",
   "execution_count": 62,
   "metadata": {},
   "outputs": [
    {
     "data": {
      "image/png": "[encoded data removed]",
      "text/plain": [
       "<Figure size 432x288 with 1 Axes>"
      ]
     },
     "metadata": {
      "needs_background": "light"
     },
     "output_type": "display_data"
    }
   ],
   "source": [
    "field = 'hospitalizedCurrently'\n",
    "plotItems(collectData(['MA','NY','CT','RI','NH','VT'],field,True),field)\n",
    "plotItems(collectData(['AZ','TX','OK','FL','GA','AL','MS'],field,True),field)\n"
   ]
  },
  {
   "cell_type": "code",
   "execution_count": 137,
   "metadata": {},
   "outputs": [
    {
     "name": "stdout",
     "output_type": "stream",
     "text": [
      "['WA', 'OR', 'CA', 'NV', 'CO', 'NM', 'MN', 'IL', 'VA', 'MD', 'DE', 'NJ', 'NY', 'CT', 'RI', 'MA', 'VT', 'NH', 'ME', 'HI']\n",
      "['AL', 'AK', 'AZ', 'AR', 'FL', 'GA', 'ID', 'IN', 'IA', 'KS', 'KY', 'LA', 'MI', 'MS', 'MO', 'MT', 'NE', 'NC', 'ND', 'OH', 'OK', 'PA', 'SC', 'SD', 'TN', 'TX', 'UT', 'WV', 'WI', 'WY']\n"
     ]
    },
    {
     "data": {
      "text/plain": [
       "20"
      ]
     },
     "execution_count": 137,
     "metadata": {},
     "output_type": "execute_result"
    }
   ],
   "source": [
    "demStates = ['WA','OR','CA','NV','CO','NM',\n",
    "            'MN','IL','VA','MD','DE','NJ',\n",
    "            'NY','CT','RI','MA','VT','NH','ME','HI']\n",
    "repStates = [s for s in states.keys() if s not in demStates]\n",
    "print(demStates)\n",
    "print(repStates)\n",
    "len(demStates)+len(repStates)\n",
    "dayOfPandemic[20200228]\n",
    "cdata[0][-1]\n",
    "zzz = collectData(repStates,field,True)\n",
    "list(dayOfPandemic.items())[0:20]\n",
    "zzz[0:50]\n",
    "len(demStates)"
   ]
  },
  {
   "cell_type": "code",
   "execution_count": 186,
   "metadata": {},
   "outputs": [
    {
     "data": {
      "image/png": "[encoded data removed]",
      "text/plain": [
       "<Figure size 864x432 with 1 Axes>"
      ]
     },
     "metadata": {
      "needs_background": "light"
     },
     "output_type": "display_data"
    }
   ],
   "source": [
    "blueStates = ['CA'] \n",
    "redStates = ['AZ'] \n",
    "flag=\"_CAvsAZ_\"\n",
    "\n",
    "#blueStates =  demStates\n",
    "#redStates = repStates\n",
    "#flag=\"_2020Election_\"\n",
    "\n",
    "plt.rcParams['figure.figsize'] = [12, 6]\n",
    "fig, ax = plt.subplots()\n",
    "#field = 'positiveIncrease'\n",
    "field = 'deathIncrease'\n",
    "#field=\"hospitalizedCurrently\"\n",
    "perCapita=True\n",
    "plotItems(collectData(blueStates,field,perCapita),'Dem')\n",
    "plotItems(collectData(redStates,field,perCapita),'Rep')\n",
    "ax.set(xlabel='day of year',ylabel='per 10000' if perCapita else \"raw numbers\",title=flag+field+(\" p10K\" if perCapita else \" raw\"))\n",
    "legend = ax.legend(loc='upper left', shadow=True, fontsize='x-large')\n",
    "ax.grid()\n",
    "fig.savefig(\"plot_\"+flag+field+(\"_p10k\" if perCapita else \"_raw\")+\".png\")\n"
   ]
  },
  {
   "cell_type": "code",
   "execution_count": null,
   "metadata": {},
   "outputs": [],
   "source": []
  }
 ],
 "metadata": {
  "kernelspec": {
   "display_name": "Python 3",
   "language": "python",
   "name": "python3"
  },
  "language_info": {
   "codemirror_mode": {
    "name": "ipython",
    "version": 3
   },
   "file_extension": ".py",
   "mimetype": "text/x-python",
   "name": "python",
   "nbconvert_exporter": "python",
   "pygments_lexer": "ipython3",
   "version": "3.7.3"
  }
 },
 "nbformat": 4,
 "nbformat_minor": 4
}
