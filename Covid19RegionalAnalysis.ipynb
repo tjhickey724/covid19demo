{
 "cells": [
  {
   "cell_type": "markdown",
   "metadata": {},
   "source": [
    "# Covid19 Analysis Demo\n",
    "This jupyter notebook allows one to compare groups of states using the data from covidtracking.com\n",
    "in a per capita basis or with raw numbers..."
   ]
  },
  {
   "cell_type": "code",
   "execution_count": 10,
   "metadata": {},
   "outputs": [],
   "source": [
    "from covid19 import *\n",
    "import matplotlib.pyplot as plt\n",
    "import numpy as np\n",
    "import json"
   ]
  },
  {
   "cell_type": "code",
   "execution_count": 11,
   "metadata": {},
   "outputs": [],
   "source": [
    "cdata = get_covid_data()"
   ]
  },
  {
   "cell_type": "code",
   "execution_count": 70,
   "metadata": {},
   "outputs": [
    {
     "data": {
      "text/plain": [
       "50"
      ]
     },
     "execution_count": 70,
     "metadata": {},
     "output_type": "execute_result"
    }
   ],
   "source": [
    "stateData = json.load(open(\"states.json\",\"r\"))\n",
    "states = {\n",
    "    \"AL\": \"Alabama\",\n",
    "    \"AK\": \"Alaska\",\n",
    "    #\"AS\": \"American Samoa\",\n",
    "    \"AZ\": \"Arizona\",\n",
    "    \"AR\": \"Arkansas\",\n",
    "    \"CA\": \"California\",\n",
    "    \"CO\": \"Colorado\",\n",
    "    \"CT\": \"Connecticut\",\n",
    "    \"DE\": \"Delaware\",\n",
    "    #\"DC\": \"District Of Columbia\",\n",
    "    #\"FM\": \"Federated States Of Micronesia\",\n",
    "    \"FL\": \"Florida\",\n",
    "    \"GA\": \"Georgia\",\n",
    "    #\"GU\": \"Guam\",\n",
    "    \"HI\": \"Hawaii\",\n",
    "    \"ID\": \"Idaho\",\n",
    "    \"IL\": \"Illinois\",\n",
    "    \"IN\": \"Indiana\",\n",
    "    \"IA\": \"Iowa\",\n",
    "    \"KS\": \"Kansas\",\n",
    "    \"KY\": \"Kentucky\",\n",
    "    \"LA\": \"Louisiana\",\n",
    "    \"ME\": \"Maine\",\n",
    "    #\"MH\": \"Marshall Islands\",\n",
    "    \"MD\": \"Maryland\",\n",
    "    \"MA\": \"Massachusetts\",\n",
    "    \"MI\": \"Michigan\",\n",
    "    \"MN\": \"Minnesota\",\n",
    "    \"MS\": \"Mississippi\",\n",
    "    \"MO\": \"Missouri\",\n",
    "    \"MT\": \"Montana\",\n",
    "    \"NE\": \"Nebraska\",\n",
    "    \"NV\": \"Nevada\",\n",
    "    \"NH\": \"New Hampshire\",\n",
    "    \"NJ\": \"New Jersey\",\n",
    "    \"NM\": \"New Mexico\",\n",
    "    \"NY\": \"New York\",\n",
    "    \"NC\": \"North Carolina\",\n",
    "    \"ND\": \"North Dakota\",\n",
    "    #\"MP\": \"Northern Mariana Islands\",\n",
    "    \"OH\": \"Ohio\",\n",
    "    \"OK\": \"Oklahoma\",\n",
    "    \"OR\": \"Oregon\",\n",
    "    #\"PW\": \"Palau\",\n",
    "    \"PA\": \"Pennsylvania\",\n",
    "    #\"PR\": \"Puerto Rico\",\n",
    "    \"RI\": \"Rhode Island\",\n",
    "    \"SC\": \"South Carolina\",\n",
    "    \"SD\": \"South Dakota\",\n",
    "    \"TN\": \"Tennessee\",\n",
    "    \"TX\": \"Texas\",\n",
    "    \"UT\": \"Utah\",\n",
    "    \"VT\": \"Vermont\",\n",
    "    #\"VI\": \"Virgin Islands\",\n",
    "    \"VA\": \"Virginia\",\n",
    "    \"WA\": \"Washington\",\n",
    "    \"WV\": \"West Virginia\",\n",
    "    \"WI\": \"Wisconsin\",\n",
    "    \"WY\": \"Wyoming\"\n",
    "}\n",
    "len(states.keys())"
   ]
  },
  {
   "cell_type": "code",
   "execution_count": 13,
   "metadata": {},
   "outputs": [
    {
     "data": {
      "text/plain": [
       "19440469"
      ]
     },
     "execution_count": 13,
     "metadata": {},
     "output_type": "execute_result"
    }
   ],
   "source": [
    "len(cdata[0])\n",
    "states['WA']\n",
    "stateData['data'][0]\n",
    "\n",
    "def statePop(state):\n",
    "    x = [d['Pop'] for d in stateData['data'] if d['State']==states[state]]\n",
    "    return x[0]\n",
    "statePop('NY')\n",
    "\n"
   ]
  },
  {
   "cell_type": "code",
   "execution_count": 14,
   "metadata": {},
   "outputs": [
    {
     "data": {
      "text/plain": [
       "{'date': 20200710,\n",
       " 'state': 'FL',\n",
       " 'positive': 244151,\n",
       " 'negative': 2177476,\n",
       " 'pending': 1911,\n",
       " 'hospitalizedCurrently': 6974,\n",
       " 'hospitalizedCumulative': 17916,\n",
       " 'inIcuCurrently': None,\n",
       " 'inIcuCumulative': None,\n",
       " 'onVentilatorCurrently': None,\n",
       " 'onVentilatorCumulative': None,\n",
       " 'recovered': None,\n",
       " 'dataQualityGrade': 'A',\n",
       " 'lastUpdateEt': '7/9/2020 23:59',\n",
       " 'dateModified': '2020-07-09T23:59:00Z',\n",
       " 'checkTimeEt': '07/09 19:59',\n",
       " 'death': 4203,\n",
       " 'hospitalized': 17916,\n",
       " 'dateChecked': '2020-07-09T23:59:00Z',\n",
       " 'totalTestsViral': 2945253,\n",
       " 'positiveTestsViral': 305374,\n",
       " 'negativeTestsViral': 2633526,\n",
       " 'positiveCasesViral': 244151,\n",
       " 'deathConfirmed': 4203,\n",
       " 'deathProbable': None,\n",
       " 'fips': '12',\n",
       " 'positiveIncrease': 11433,\n",
       " 'negativeIncrease': 52796,\n",
       " 'total': 2423538,\n",
       " 'totalTestResults': 2421627,\n",
       " 'totalTestResultsIncrease': 64229,\n",
       " 'posNeg': 2421627,\n",
       " 'deathIncrease': 92,\n",
       " 'hospitalizedIncrease': 437,\n",
       " 'hash': '3968c03124ccdd661df0cc1695af0e15560f692c',\n",
       " 'commercialScore': 0,\n",
       " 'negativeRegularScore': 0,\n",
       " 'negativeScore': 0,\n",
       " 'positiveScore': 0,\n",
       " 'score': 0,\n",
       " 'grade': ''}"
      ]
     },
     "execution_count": 14,
     "metadata": {},
     "output_type": "execute_result"
    }
   ],
   "source": [
    "cdata[0][10]"
   ]
  },
  {
   "cell_type": "code",
   "execution_count": 15,
   "metadata": {},
   "outputs": [],
   "source": [
    "dates = sorted(list({ x['date'] for x in cdata[0]}))\n",
    "dayOfPandemic={}\n",
    "count=22\n",
    "for d in dates:\n",
    "    dayOfPandemic[d]=count\n",
    "    count = count + 1\n",
    "#dayOfPandemic"
   ]
  },
  {
   "cell_type": "code",
   "execution_count": 16,
   "metadata": {},
   "outputs": [],
   "source": [
    "def getField(x,field):\n",
    "    if field in x:\n",
    "        z = x[field]\n",
    "        if (z==None):\n",
    "            return 0\n",
    "        else:\n",
    "            return z\n",
    "    else:\n",
    "        return 0\n",
    "def getStateData(state,field):\n",
    "    sd = [(x['date'],getField(x,field)) for x in cdata[0] if x['state'] == state]\n",
    "    return sorted(sd)\n",
    "\n",
    "           "
   ]
  },
  {
   "cell_type": "code",
   "execution_count": 17,
   "metadata": {},
   "outputs": [
    {
     "data": {
      "image/png": "[encoded data removed]",
      "text/plain": [
       "<Figure size 432x288 with 1 Axes>"
      ]
     },
     "metadata": {
      "needs_background": "light"
     },
     "output_type": "display_data"
    }
   ],
   "source": [
    "z = getStateData('MA','hospitalizedCurrently')\n",
    "#plt.plot([x[0] for x in z],[x[1] for x in z])\n",
    "def plotItems(items,field):\n",
    "    plt.plot([x[0] for x in items],[x[1] for x in items],label=field)\n",
    "plotItems(z,'label')"
   ]
  },
  {
   "cell_type": "code",
   "execution_count": 49,
   "metadata": {},
   "outputs": [],
   "source": [
    "def weeklyAvg(L):\n",
    "    week = [0,0,0,0,0,0,0]\n",
    "    newL=[]\n",
    "    for x in L:\n",
    "        week = week[1:]+[x[1]]\n",
    "        newL += [(x[0],sum(week)/7)]\n",
    "    return newL\n",
    "\n",
    "def collectData(states,field,options):\n",
    "    perCapita = options['perCapita'] if 'perCapita' in options else False\n",
    "    averageByWeek = options['averageByWeek'] if 'averageByWeek' in options else False\n",
    "    pop=0\n",
    "    for st in states:\n",
    "        pop += statePop(st)\n",
    "    data={}\n",
    "    for d in cdata[0]:\n",
    "        s=d['state']\n",
    "        if s in states:\n",
    "            n = getField(d,field)\n",
    "            if d['date'] in data:\n",
    "                data[d['date']] += n\n",
    "            else:\n",
    "                data[d['date']] = n\n",
    "    z = sorted(data.items())\n",
    "    if perCapita:\n",
    "        z = [(dayOfPandemic[d[0]],d[1]*10000/pop) for d in z]\n",
    "    else:\n",
    "        z = [(dayOfPandemic[d[0]],d[1]) for d in z]\n",
    "    if averageByWeek:\n",
    "        z = weeklyAvg(z)\n",
    "        \n",
    "    return z\n",
    "\n",
    "def collectData2(states,field,perCapita):\n",
    "    pop=0\n",
    "    for st in states:\n",
    "        pop += statePop(st)\n",
    "    data={}\n",
    "    for d in cdata[0]:\n",
    "        s=d['state']\n",
    "        if s in states:\n",
    "            n = getField(d,field)\n",
    "            if d['date'] in data:\n",
    "                data[d['date']] += [(n,s)]\n",
    "            else:\n",
    "                data[d['date']] = [(n,s)]\n",
    "    for d in data: \n",
    "        data[d] = sorted(data[d],reverse=True)\n",
    "        #print(data[d])\n",
    "    z = sorted(data.items())\n",
    "    if perCapita:\n",
    "        z = [(dayOfPandemic[d[0]],d[1]*10000/pop) for d in z]\n",
    "    else:\n",
    "        z = [(dayOfPandemic[d[0]],d[1]) for d in z]\n",
    "        \n",
    "    return z\n",
    "\n"
   ]
  },
  {
   "cell_type": "code",
   "execution_count": 19,
   "metadata": {},
   "outputs": [
    {
     "data": {
      "text/plain": [
       "[1, 2, 4]"
      ]
     },
     "execution_count": 19,
     "metadata": {},
     "output_type": "execute_result"
    }
   ],
   "source": [
    "zz = collectData(['MA','NY','CT'],'positive',True,False)\n",
    "zz[0:5]\n",
    "x=[1,2]\n",
    "x+=[4]\n",
    "x"
   ]
  },
  {
   "cell_type": "code",
   "execution_count": null,
   "metadata": {},
   "outputs": [],
   "source": []
  },
  {
   "cell_type": "code",
   "execution_count": null,
   "metadata": {},
   "outputs": [],
   "source": []
  },
  {
   "cell_type": "code",
   "execution_count": 20,
   "metadata": {},
   "outputs": [
    {
     "data": {
      "text/plain": [
       "22"
      ]
     },
     "execution_count": 20,
     "metadata": {},
     "output_type": "execute_result"
    }
   ],
   "source": [
    "\n",
    "dayOfPandemic[20200122]\n"
   ]
  },
  {
   "cell_type": "code",
   "execution_count": 44,
   "metadata": {},
   "outputs": [
    {
     "data": {
      "image/png": "[encoded data removed]",
      "text/plain": [
       "<Figure size 864x432 with 1 Axes>"
      ]
     },
     "metadata": {
      "needs_background": "light"
     },
     "output_type": "display_data"
    }
   ],
   "source": [
    "field = 'hospitalizedCurrently'\n",
    "plotItems(collectData(['MA','NY','CT','RI','NH','VT'],field,{'perCapita':True}),field)\n",
    "plotItems(collectData(['AZ','TX','OK','FL','GA','AL','MS'],field,{'perCapita':True}),field)\n"
   ]
  },
  {
   "cell_type": "code",
   "execution_count": 83,
   "metadata": {},
   "outputs": [
    {
     "name": "stdout",
     "output_type": "stream",
     "text": [
      "[(183, 21871), (184, 22750), (185, 23215), (186, 23630), (187, 24296), (188, 25308), (189, 26696), (190, 27515), (191, 28057), (192, 35817)]\n",
      "6\n",
      "[(183, 19540.0), (184, 20220.714285714286), (185, 20944.0), (186, 21621.14285714286), (187, 22381.714285714286), (188, 23154.0), (189, 23966.571428571428), (190, 24772.85714285714), (191, 25531.0), (192, 27331.285714285714)]\n"
     ]
    }
   ],
   "source": [
    "demStates = ['WA','OR','CA','NV','CO','NM',\n",
    "            'MN','IL','VA','MD','DE','NJ',\n",
    "            'NY','CT','RI','MA','VT','NH','ME','HI']\n",
    "def otherStates(L):\n",
    "    return [s for s in states.keys() if s not in L]\n",
    "repStates = [s for s in states.keys() if s not in demStates]\n",
    "def regionPop(states):\n",
    "    pop=0\n",
    "    for st in states:\n",
    "        pop += statePop(st)\n",
    "    return(pop)\n",
    "print(regionPop(demStates))\n",
    "print(regionPop())\n",
    "#print(demStates)\n",
    "#print(repStates)\n",
    "len(demStates)+len(repStates)\n",
    "dayOfPandemic[20200228]\n",
    "cdata[0][-1]\n",
    "zzz = collectData(repStates,field,{'perCapita':True})\n",
    "list(dayOfPandemic.items())[0:20]\n",
    "zzz[0:50]\n",
    "len(demStates)\n",
    "print(collectData(repStates,'hospitalizedCurrently',{'perCapita':False})[-10:])\n",
    "print(sum([1,2,3]))\n",
    "\n",
    "print(weeklyAvg(collectData(repStates,'hospitalizedCurrently',{'perCapita':False}))[-10:])\n",
    "        \n",
    "        "
   ]
  },
  {
   "cell_type": "code",
   "execution_count": 112,
   "metadata": {},
   "outputs": [
    {
     "name": "stdout",
     "output_type": "stream",
     "text": [
      "13.102902932306323\n",
      "86.89709706769368\n"
     ]
    },
    {
     "data": {
      "image/png": "[encoded data removed]",
      "text/plain": [
       "<Figure size 864x432 with 1 Axes>"
      ]
     },
     "metadata": {
      "needs_background": "light"
     },
     "output_type": "display_data"
    }
   ],
   "source": [
    "blueStates = ['NJ','MA','NY','CT','RI','VT','NH','ME'] \n",
    "redStates = otherStates(blueStates)\n",
    "#['FL','AL','GA','MS','SC','NC','WV','KY','TN','VA','LA','TX','AR'] \n",
    "flag=\"_NYNJNEvsRest_\"\n",
    "\n",
    "#blueStates =  demStates\n",
    "#redStates = repStates\n",
    "#flag=\"_2020Election_\"\n",
    "\n",
    "bluePop = regionPop(blueStates)\n",
    "redPop = regionPop(redStates)\n",
    "totPop = bluePop+redPop\n",
    "\n",
    "print(bluePop/totPop*100)\n",
    "print(redPop/totPop*100)\n",
    "\n",
    "perCapita=False\n",
    "averageByWeek=True\n",
    "\n",
    "plt.rcParams['figure.figsize'] = [12, 6]\n",
    "fig, ax = plt.subplots()\n",
    "#field = 'positiveIncrease'\n",
    "#field = 'deathIncrease'\n",
    "#field = \"hospitalizedCurrently\"\n",
    "#field = \"death\"\n",
    "#field = \"positive\"\n",
    "#field = \"hospitalized\"\n",
    "#field = \"inIcuCurrently\"\n",
    "field = \"onVentilatorCurrently\"\n",
    "#field = \"totalTestResultsIncrease\"\n",
    "\n",
    "plotItems(collectData(blueStates,field,{'perCapita':perCapita,'averageByWeek':averageByWeek}),'NJ, NY, NE')\n",
    "plotItems(collectData(redStates,field,{'perCapita':perCapita,'averageByWeek':averageByWeek}),'Rest')\n",
    "ax.set(xlabel='day of year',\n",
    "       ylabel='per 10000' if perCapita else \"raw numbers\",\n",
    "       title=flag+field+(\" p10K\" if perCapita else \" raw\"))\n",
    "plt.xticks([0,30,60,90,120,150,180,210,240,270,300,330,360],'Jan Feb Mar Apr May June July August September October November December January'.split(' '))\n",
    "#plt.yticks([0,10000,20000,30000,40000,50000,60000,70000,80000,90000,100000,110000,120000,130000,140000,150000])\n",
    "legend = ax.legend(loc='upper left', shadow=True, fontsize='x-large')\n",
    "ax.grid()\n",
    "fig.savefig(\"plot_\"+flag+field+(\"_p10k\" if perCapita else \"_raw\")+\".png\")\n"
   ]
  },
  {
   "cell_type": "code",
   "execution_count": null,
   "metadata": {},
   "outputs": [],
   "source": []
  }
 ],
 "metadata": {
  "kernelspec": {
   "display_name": "Python 3",
   "language": "python",
   "name": "python3"
  },
  "language_info": {
   "codemirror_mode": {
    "name": "ipython",
    "version": 3
   },
   "file_extension": ".py",
   "mimetype": "text/x-python",
   "name": "python",
   "nbconvert_exporter": "python",
   "pygments_lexer": "ipython3",
   "version": "3.7.3"
  }
 },
 "nbformat": 4,
 "nbformat_minor": 4
}
